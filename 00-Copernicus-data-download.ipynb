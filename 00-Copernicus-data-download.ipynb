{
 "cells": [
  {
   "cell_type": "markdown",
   "id": "d7adfa74-8f25-4e75-adc2-5000deee925a",
   "metadata": {},
   "source": [
    "![header](img/logos_header2.png)"
   ]
  },
  {
   "cell_type": "markdown",
   "id": "6d0815ae-fff1-405c-ba18-88a92aabf77c",
   "metadata": {},
   "source": [
    "# Downloading data from the Copernicus Marine Data Store via Python API\n",
    "This notebook shows how to access Copernicus Marine data through a python notebook "
   ]
  },
  {
   "cell_type": "markdown",
   "id": "8e3ba6ff-2e8f-4f63-bd57-14ea3194f1ea",
   "metadata": {},
   "source": [
    "### Preparation"
   ]
  },
  {
   "cell_type": "markdown",
   "id": "b6ef7f25-5b0d-4eab-b302-6dce50102a8d",
   "metadata": {
    "tags": []
   },
   "source": [
    "The main functionality we will use in this notebook is provided by the <code>copernicusmarine</code> toolbox. </br> \n",
    "As this package is not by default installed in our environment, we need to install it manually. This is done in the next cell. </br>\n",
    "Here, the \"!\" indicates that the following text is a cmd command, which now will be executed in this notebook. </br>\n",
    "This will install the package in our environment."
   ]
  },
  {
   "cell_type": "code",
   "execution_count": null,
   "id": "62ea2e20-0e66-42c2-8f1a-cd1d2445a907",
   "metadata": {},
   "outputs": [],
   "source": [
    "! pip install copernicusmarine xarray"
   ]
  },
  {
   "cell_type": "markdown",
   "id": "92255a68-694f-4617-82b4-55fd421743d5",
   "metadata": {},
   "source": [
    "Now all needed packages can be imported in our notebook:"
   ]
  },
  {
   "cell_type": "code",
   "execution_count": null,
   "id": "cec95fc6-79a2-4597-b6cf-dea85f2f02cf",
   "metadata": {
    "tags": []
   },
   "outputs": [],
   "source": [
    "# loading needed packages\n",
    "import copernicusmarine\n",
    "import xarray as xr"
   ]
  },
  {
   "cell_type": "markdown",
   "id": "093e165b-bdbe-424f-9365-ecc5f77d78d2",
   "metadata": {},
   "source": [
    "Another prerequisite for accessing the data is to register at https://data.marine.copernicus.eu/register and create a free account. </br>\n",
    "After registering there, you will receive an email and have to set a password. Then you can proceed. Remember to keep your account details handy, because you will need to input them in the code below!"
   ]
  },
  {
   "cell_type": "markdown",
   "id": "5d4bde06-b934-46db-9f09-6a8e58aea953",
   "metadata": {},
   "source": [
    "## Data access\n",
    "The copernicusmarine package provides access and download options to all the products provided in the [Copernicus Marine Data Store](https://data.marine.copernicus.eu/products).</br>\n",
    "To receive the \"dataset_id\" required for downloading, click on the dataset you are interested in, then on the left side of the website, go to \"Data access\" and select the dataset id, you want. </br>\n",
    "In the following, we will go through all the steps, based on the example of the [\"Operational Sea Surface Temperature and Ice Analysis (OSTIA)\"](https://doi.org/10.48670/moi-00165) Dataset (id: SST_GLO_SST_L4_NRT_OBSERVATIONS_010_001)."
   ]
  },
  {
   "cell_type": "markdown",
   "id": "649aee74-5c19-459a-9a3b-951c27df080d",
   "metadata": {
    "tags": []
   },
   "source": [
    "### Data request parameter setup\n",
    "In order to get (only) the data we are interested in, it is important to define the area of interest and time of interest as well as other filtering parameters.</br>\n",
    "Here, we set up a data request dictionary, however, it would also be possible to insert the filtering criteria directly into the data request.\n",
    "\n",
    "\n",
    "Generally, the following parameters can be defined: </br>\n",
    "- __dataset_id__: string indicating the dataset that will be downloaded\n",
    "- __variables__: list of strings indicating the variables that will be downloaded\n",
    "- __minimum_longitude__: minimum longitude of extent that will be downloaded\n",
    "- __maximum_longitude__: maximum longitude of extent that will be downloaded\n",
    "- __minimum_latitude__: minimum latitude of extent that will be downloaded\n",
    "- __maximum_latitude__: maximum latitude of extent that will be downloaded\n",
    "- __start_datetime__: first date of the timeframe that will be downloaded\n",
    "- __end_datetime__: last date of the timeframe that will be downloaded\n",
    "- __minimum_depth__: minimum value of depth range that will be downloaded\n",
    "- __maximum_depth__: maximum value of depth range that will be downloaded\n",
    "- __output_filename__: name of the file that will be stored on the local machine\n",
    "- __output_directory__: directory where the downloaded file will be stored"
   ]
  },
  {
   "cell_type": "markdown",
   "id": "5e3a590c-8c54-4cfc-993f-81348ccd1ad4",
   "metadata": {},
   "source": [
    "### Data download\n",
    "Now, we will download a spatiotemporal subset of the dataset, using the copernicusmarine \"subset\" function. </br>\n",
    "\n",
    "The inputs provided below is to create a subset for the region of the Red Sea, for the period between 1 January 2023 and 1 September 2024. This dataset is used together with the GMES Africa \"Earth Observation for Coral Reef Resilience:  Ecology, Threats, and Monitoring\" training course. \n",
    "\n",
    "After running the following cell, you will be asked for your Copernicus Marine Services user account username and password, which you will need to insert (followed by enter). </br>\n",
    "Also, the download needs to be confirmed by pressing \"y\" when prompted. </br>\n"
   ]
  },
  {
   "cell_type": "code",
   "execution_count": null,
   "id": "35d19f8e-8515-4c8b-ba94-19983f6d2fc3",
   "metadata": {
    "tags": []
   },
   "outputs": [],
   "source": [
    "# Load xarray dataset\n",
    "copernicusmarine.subset(\n",
    "  dataset_id=\"METOFFICE-GLO-SST-L4-NRT-OBS-SST-V2\",\n",
    "  variables=[\"analysed_sst\"],\n",
    "  minimum_longitude=32,\n",
    "  maximum_longitude=44,\n",
    "  minimum_latitude=12,\n",
    "  maximum_latitude=30,\n",
    "  start_datetime=\"2023-01-01T00:00:00\",\n",
    "  end_datetime=\"2024-09-01T00:00:00\",\n",
    ")"
   ]
  }
 ],
 "metadata": {
  "kernelspec": {
   "display_name": "Python 3 (ipykernel)",
   "language": "python",
   "name": "python3"
  },
  "language_info": {
   "codemirror_mode": {
    "name": "ipython",
    "version": 3
   },
   "file_extension": ".py",
   "mimetype": "text/x-python",
   "name": "python",
   "nbconvert_exporter": "python",
   "pygments_lexer": "ipython3",
   "version": "3.10.12"
  }
 },
 "nbformat": 4,
 "nbformat_minor": 5
}
